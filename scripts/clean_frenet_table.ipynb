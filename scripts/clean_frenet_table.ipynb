{
 "cells": [
  {
   "cell_type": "code",
   "execution_count": 22,
   "metadata": {},
   "outputs": [],
   "source": [
    "import numpy as np\n",
    "np.set_printoptions(edgeitems=30, linewidth=100000, formatter=dict(float=lambda x: \"%.10g\" % x))"
   ]
  },
  {
   "cell_type": "code",
   "execution_count": 24,
   "metadata": {},
   "outputs": [],
   "source": [
    "npz_path = \"/data/tables/frenet/12ey_7delta_11vxcar_11vycar_5vxgoal_11wz_11epsi_3curv_mu1.0999999999999999_cs5.0_sorted.npz\"\n",
    "data = np.load(npz_path)\n",
    "inputs, outputs = data[\"inputs\"], data[\"outputs\"]"
   ]
  },
  {
   "cell_type": "code",
   "execution_count": 25,
   "metadata": {},
   "outputs": [
    {
     "data": {
      "text/plain": [
       "(18447660, 8)"
      ]
     },
     "execution_count": 25,
     "metadata": {},
     "output_type": "execute_result"
    }
   ],
   "source": [
    "inputs.shape"
   ]
  },
  {
   "cell_type": "code",
   "execution_count": 26,
   "metadata": {},
   "outputs": [
    {
     "data": {
      "text/plain": [
       "(18447660, 5, 2)"
      ]
     },
     "execution_count": 26,
     "metadata": {},
     "output_type": "execute_result"
    }
   ],
   "source": [
    "outputs.shape"
   ]
  },
  {
   "cell_type": "code",
   "execution_count": 27,
   "metadata": {},
   "outputs": [],
   "source": [
    "valid_ind = np.unique(np.where(outputs != -999)[0])"
   ]
  },
  {
   "cell_type": "code",
   "execution_count": 28,
   "metadata": {},
   "outputs": [],
   "source": [
    "invalid_ind = np.unique(np.where(outputs == -999)[0])"
   ]
  },
  {
   "cell_type": "code",
   "execution_count": 29,
   "metadata": {},
   "outputs": [
    {
     "data": {
      "text/plain": [
       "956607"
      ]
     },
     "execution_count": 29,
     "metadata": {},
     "output_type": "execute_result"
    }
   ],
   "source": [
    "len(invalid_ind)"
   ]
  },
  {
   "cell_type": "code",
   "execution_count": 30,
   "metadata": {},
   "outputs": [],
   "source": [
    "invalid_inputs = inputs[invalid_ind]"
   ]
  },
  {
   "cell_type": "code",
   "execution_count": 31,
   "metadata": {},
   "outputs": [
    {
     "data": {
      "text/plain": [
       "(956607, 8)"
      ]
     },
     "execution_count": 31,
     "metadata": {},
     "output_type": "execute_result"
    }
   ],
   "source": [
    "invalid_inputs.shape"
   ]
  },
  {
   "cell_type": "code",
   "execution_count": 32,
   "metadata": {},
   "outputs": [
    {
     "name": "stdout",
     "output_type": "stream",
     "text": [
      "invalid ey: [-0.2 0 0.2 0.4 0.6 0.8 1 1.2 1.4 1.6 1.8 2]\n",
      "counts:      [111360 127649 111454  85377  72184  67079  64915  63905  63255  63469  62862  63098]\n",
      "invalid delta: [-0.3 -0.2 -0.1 0 0.1 0.2 0.3]\n",
      "counts:      [134945 130301 134148 129731 140368 142810 144304]\n",
      "invalid vx: [1 1.6 2.2 2.8 3.4 4 4.6 5.2 5.8]\n",
      "counts:      [393563 200458 105400 124078  81142  39178  11875    888     25]\n",
      "invalid vy: [-1 -0.8 -0.6 -0.4 -0.2 0 0.2 0.4 0.6 0.8 1]\n",
      "counts:      [141353 109222  94586  71494  54642  52808  49114  56428  84062 103398 139500]\n",
      "invalid vgx: [3 4 5 6 7]\n",
      "counts:      [225499 204622 188341 175066 163079]\n",
      "invalid wz: [-2.6 -2.08 -1.56 -1.04 -0.52 0 0.52 1.04 1.56 2.08 2.6]\n",
      "counts:      [124400 107577  77953  68603  60671  54886  62378  70256  85280 112439 132164]\n",
      "invalid epsi: [-1 -0.8 -0.6 -0.4 -0.2 0 0.2 0.4 0.6 0.8 1]\n",
      "counts:      [ 94393  73821  58821  48645  46473  59560  80342  94121 113099 133441 153891]\n",
      "invalid curv: [-0.1 0 0.1]\n",
      "counts:      [325554 319702 311351]\n"
     ]
    }
   ],
   "source": [
    "keys = [\"ey\", \"delta\", \"vx\", \"vy\", \"vgx\", \"wz\", \"epsi\", \"curv\"]\n",
    "for i in range(invalid_inputs.shape[1]):\n",
    "    entries, counts = np.unique(invalid_inputs[:, i], return_counts=True)\n",
    "    print(f\"invalid {keys[i]}: {entries}\")\n",
    "    print(f\"counts:      {counts}\")"
   ]
  },
  {
   "cell_type": "code",
   "execution_count": 33,
   "metadata": {},
   "outputs": [],
   "source": [
    "valid_inputs = inputs[valid_ind]\n",
    "valid_outputs = outputs[valid_ind]"
   ]
  },
  {
   "cell_type": "code",
   "execution_count": 34,
   "metadata": {},
   "outputs": [
    {
     "data": {
      "text/plain": [
       "(17491053, 8)"
      ]
     },
     "execution_count": 34,
     "metadata": {},
     "output_type": "execute_result"
    }
   ],
   "source": [
    "valid_inputs.shape"
   ]
  },
  {
   "cell_type": "code",
   "execution_count": 35,
   "metadata": {},
   "outputs": [
    {
     "data": {
      "text/plain": [
       "(17491053, 5, 2)"
      ]
     },
     "execution_count": 35,
     "metadata": {},
     "output_type": "execute_result"
    }
   ],
   "source": [
    "valid_outputs.shape"
   ]
  },
  {
   "cell_type": "code",
   "execution_count": 36,
   "metadata": {},
   "outputs": [
    {
     "ename": "KeyboardInterrupt",
     "evalue": "",
     "output_type": "error",
     "traceback": [
      "\u001b[0;31m---------------------------------------------------------------------------\u001b[0m",
      "\u001b[0;31mKeyboardInterrupt\u001b[0m                         Traceback (most recent call last)",
      "Cell \u001b[0;32mIn[36], line 6\u001b[0m\n\u001b[1;32m      4\u001b[0m all_vy \u001b[38;5;241m=\u001b[39m np\u001b[38;5;241m.\u001b[39munique(inputs[:, \u001b[38;5;241m3\u001b[39m])\n\u001b[1;32m      5\u001b[0m all_vgx \u001b[38;5;241m=\u001b[39m np\u001b[38;5;241m.\u001b[39munique(inputs[:, \u001b[38;5;241m4\u001b[39m])\n\u001b[0;32m----> 6\u001b[0m all_wz \u001b[38;5;241m=\u001b[39m \u001b[43mnp\u001b[49m\u001b[38;5;241;43m.\u001b[39;49m\u001b[43munique\u001b[49m\u001b[43m(\u001b[49m\u001b[43minputs\u001b[49m\u001b[43m[\u001b[49m\u001b[43m:\u001b[49m\u001b[43m,\u001b[49m\u001b[43m \u001b[49m\u001b[38;5;241;43m5\u001b[39;49m\u001b[43m]\u001b[49m\u001b[43m)\u001b[49m\n\u001b[1;32m      7\u001b[0m all_epsi \u001b[38;5;241m=\u001b[39m np\u001b[38;5;241m.\u001b[39munique(inputs[:, \u001b[38;5;241m6\u001b[39m])\n\u001b[1;32m      8\u001b[0m all_curv \u001b[38;5;241m=\u001b[39m np\u001b[38;5;241m.\u001b[39munique(inputs[:, \u001b[38;5;241m7\u001b[39m])\n",
      "File \u001b[0;32m/usr/local/lib/python3.12/dist-packages/numpy/lib/arraysetops.py:274\u001b[0m, in \u001b[0;36munique\u001b[0;34m(ar, return_index, return_inverse, return_counts, axis, equal_nan)\u001b[0m\n\u001b[1;32m    272\u001b[0m ar \u001b[38;5;241m=\u001b[39m np\u001b[38;5;241m.\u001b[39masanyarray(ar)\n\u001b[1;32m    273\u001b[0m \u001b[38;5;28;01mif\u001b[39;00m axis \u001b[38;5;129;01mis\u001b[39;00m \u001b[38;5;28;01mNone\u001b[39;00m:\n\u001b[0;32m--> 274\u001b[0m     ret \u001b[38;5;241m=\u001b[39m \u001b[43m_unique1d\u001b[49m\u001b[43m(\u001b[49m\u001b[43mar\u001b[49m\u001b[43m,\u001b[49m\u001b[43m \u001b[49m\u001b[43mreturn_index\u001b[49m\u001b[43m,\u001b[49m\u001b[43m \u001b[49m\u001b[43mreturn_inverse\u001b[49m\u001b[43m,\u001b[49m\u001b[43m \u001b[49m\u001b[43mreturn_counts\u001b[49m\u001b[43m,\u001b[49m\u001b[43m \u001b[49m\n\u001b[1;32m    275\u001b[0m \u001b[43m                    \u001b[49m\u001b[43mequal_nan\u001b[49m\u001b[38;5;241;43m=\u001b[39;49m\u001b[43mequal_nan\u001b[49m\u001b[43m)\u001b[49m\n\u001b[1;32m    276\u001b[0m     \u001b[38;5;28;01mreturn\u001b[39;00m _unpack_tuple(ret)\n\u001b[1;32m    278\u001b[0m \u001b[38;5;66;03m# axis was specified and not None\u001b[39;00m\n",
      "File \u001b[0;32m/usr/local/lib/python3.12/dist-packages/numpy/lib/arraysetops.py:336\u001b[0m, in \u001b[0;36m_unique1d\u001b[0;34m(ar, return_index, return_inverse, return_counts, equal_nan)\u001b[0m\n\u001b[1;32m    334\u001b[0m     aux \u001b[38;5;241m=\u001b[39m ar[perm]\n\u001b[1;32m    335\u001b[0m \u001b[38;5;28;01melse\u001b[39;00m:\n\u001b[0;32m--> 336\u001b[0m     \u001b[43mar\u001b[49m\u001b[38;5;241;43m.\u001b[39;49m\u001b[43msort\u001b[49m\u001b[43m(\u001b[49m\u001b[43m)\u001b[49m\n\u001b[1;32m    337\u001b[0m     aux \u001b[38;5;241m=\u001b[39m ar\n\u001b[1;32m    338\u001b[0m mask \u001b[38;5;241m=\u001b[39m np\u001b[38;5;241m.\u001b[39mempty(aux\u001b[38;5;241m.\u001b[39mshape, dtype\u001b[38;5;241m=\u001b[39mnp\u001b[38;5;241m.\u001b[39mbool_)\n",
      "\u001b[0;31mKeyboardInterrupt\u001b[0m: "
     ]
    }
   ],
   "source": [
    "all_ey = np.unique(inputs[:, 0])\n",
    "all_delta = np.unique(inputs[:, 1])\n",
    "all_vx = np.unique(inputs[:, 2])\n",
    "all_vy = np.unique(inputs[:, 3])\n",
    "all_vgx = np.unique(inputs[:, 4])\n",
    "all_wz = np.unique(inputs[:, 5])\n",
    "all_epsi = np.unique(inputs[:, 6])\n",
    "all_curv = np.unique(inputs[:, 7])"
   ]
  },
  {
   "cell_type": "code",
   "execution_count": 15,
   "metadata": {},
   "outputs": [],
   "source": [
    "valid_ey = np.unique(valid_inputs[:, 0])\n",
    "valid_delta = np.unique(valid_inputs[:, 1])\n",
    "valid_vx = np.unique(valid_inputs[:, 2])\n",
    "valid_vy = np.unique(valid_inputs[:, 3])\n",
    "valid_vgx = np.unique(valid_inputs[:, 4])\n",
    "valid_wz = np.unique(valid_inputs[:, 5])\n",
    "valid_epsi = np.unique(valid_inputs[:, 6])\n",
    "valid_curv = np.unique(valid_inputs[:, 7])"
   ]
  },
  {
   "cell_type": "code",
   "execution_count": 16,
   "metadata": {},
   "outputs": [
    {
     "name": "stdout",
     "output_type": "stream",
     "text": [
      "all_ey: [-0.2 0 0.2 0.4 0.6 0.8 1 1.2 1.4 1.6 1.8 2 2.2]\n",
      "all_delta: [-0.2 -0.1 0 0.1 0.2]\n",
      "all_vx: [1 3 5 7]\n",
      "all_vy: [-1 -0.8 -0.6 -0.4 -0.2 -2.220446049e-16 0.2 0.4 0.6 0.8 1]\n",
      "all_vgx: [3 5 7]\n",
      "all_wz: [-2 -1.8 -1.6 -1.4 -1.2 -1 -0.8 -0.6 -0.4 -0.2 -4.440892099e-16 0.2 0.4 0.6 0.8 1 1.2 1.4 1.6 1.8 2]\n",
      "all_epsi: [-1 -0.8 -0.6 -0.4 -0.2 -2.220446049e-16 0.2 0.4 0.6 0.8 1]\n",
      "all_curv: [-0.4 -0.2 0 0.2 0.4]\n"
     ]
    }
   ],
   "source": [
    "print(f\"all_ey: {all_ey}\")\n",
    "print(f\"all_delta: {all_delta}\")\n",
    "print(f\"all_vx: {all_vx}\")\n",
    "print(f\"all_vy: {all_vy}\")\n",
    "print(f\"all_vgx: {all_vgx}\")\n",
    "print(f\"all_wz: {all_wz}\")\n",
    "print(f\"all_epsi: {all_epsi}\")\n",
    "print(f\"all_curv: {all_curv}\")"
   ]
  },
  {
   "cell_type": "code",
   "execution_count": 17,
   "metadata": {},
   "outputs": [
    {
     "name": "stdout",
     "output_type": "stream",
     "text": [
      "valid_ey: [-0.2 0 0.2 0.4 0.6 0.8 1 1.2 1.4 1.6 1.8 2 2.2]\n",
      "valid_delta: [-0.2 -0.1 0 0.1 0.2]\n",
      "valid_vx: [1 3 5 7]\n",
      "valid_vy: [-1 -0.8 -0.6 -0.4 -0.2 -2.220446049e-16 0.2 0.4 0.6 0.8 1]\n",
      "valid_vgx: [3 5 7]\n",
      "valid_wz: [-2 -1.8 -1.6 -1.4 -1.2 -1 -0.8 -0.6 -0.4 -0.2 -4.440892099e-16 0.2 0.4 0.6 0.8 1 1.2 1.4 1.6 1.8 2]\n",
      "valid_epsi: [-1 -0.8 -0.6 -0.4 -0.2 -2.220446049e-16 0.2 0.4 0.6 0.8 1]\n",
      "valid_curv: [-0.4 -0.2 0 0.2 0.4]\n"
     ]
    }
   ],
   "source": [
    "print(f\"valid_ey: {valid_ey}\")\n",
    "print(f\"valid_delta: {valid_delta}\")\n",
    "print(f\"valid_vx: {valid_vx}\")\n",
    "print(f\"valid_vy: {valid_vy}\")\n",
    "print(f\"valid_vgx: {valid_vgx}\")\n",
    "print(f\"valid_wz: {valid_wz}\")\n",
    "print(f\"valid_epsi: {valid_epsi}\")\n",
    "print(f\"valid_curv: {valid_curv}\")"
   ]
  },
  {
   "cell_type": "code",
   "execution_count": 37,
   "metadata": {},
   "outputs": [
    {
     "ename": "",
     "evalue": "",
     "output_type": "error",
     "traceback": [
      "\u001b[1;31mThe Kernel crashed while executing code in the current cell or a previous cell. \n",
      "\u001b[1;31mPlease review the code in the cell(s) to identify a possible cause of the failure. \n",
      "\u001b[1;31mClick <a href='https://aka.ms/vscodeJupyterKernelCrash'>here</a> for more info. \n",
      "\u001b[1;31mView Jupyter <a href='command:jupyter.viewOutput'>log</a> for further details."
     ]
    }
   ],
   "source": [
    "np.savez_compressed(npz_path[:-4] + \"_cleaned\" + npz_path[-4:], inputs=valid_inputs, outputs=valid_outputs)"
   ]
  },
  {
   "cell_type": "code",
   "execution_count": null,
   "metadata": {},
   "outputs": [],
   "source": []
  }
 ],
 "metadata": {
  "kernelspec": {
   "display_name": "venv",
   "language": "python",
   "name": "python3"
  },
  "language_info": {
   "codemirror_mode": {
    "name": "ipython",
    "version": 3
   },
   "file_extension": ".py",
   "mimetype": "text/x-python",
   "name": "python",
   "nbconvert_exporter": "python",
   "pygments_lexer": "ipython3",
   "version": "3.12.3"
  }
 },
 "nbformat": 4,
 "nbformat_minor": 2
}
