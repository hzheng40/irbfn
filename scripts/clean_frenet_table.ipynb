{
 "cells": [
  {
   "cell_type": "code",
   "execution_count": 1,
   "metadata": {},
   "outputs": [],
   "source": [
    "import numpy as np\n",
    "np.set_printoptions(edgeitems=30, linewidth=100000, formatter=dict(float=lambda x: \"%.10g\" % x))"
   ]
  },
  {
   "cell_type": "code",
   "execution_count": 2,
   "metadata": {},
   "outputs": [],
   "source": [
    "npz_path = \"/data/tables/frenet/6ey_5delta_5vxcar_5vycar_5vxgoal_11wz_8epsi_5curv_mu1.0000000000000002_cs5.0_sorted.npz\"\n",
    "data = np.load(npz_path)\n",
    "inputs, outputs = data[\"inputs\"], data[\"outputs\"]"
   ]
  },
  {
   "cell_type": "code",
   "execution_count": 3,
   "metadata": {},
   "outputs": [
    {
     "data": {
      "text/plain": [
       "(1650000, 8)"
      ]
     },
     "execution_count": 3,
     "metadata": {},
     "output_type": "execute_result"
    }
   ],
   "source": [
    "inputs.shape"
   ]
  },
  {
   "cell_type": "code",
   "execution_count": 4,
   "metadata": {},
   "outputs": [
    {
     "data": {
      "text/plain": [
       "(1650000, 5, 2)"
      ]
     },
     "execution_count": 4,
     "metadata": {},
     "output_type": "execute_result"
    }
   ],
   "source": [
    "outputs.shape"
   ]
  },
  {
   "cell_type": "code",
   "execution_count": 5,
   "metadata": {},
   "outputs": [],
   "source": [
    "valid_ind = np.unique(np.where(outputs != -999)[0])"
   ]
  },
  {
   "cell_type": "code",
   "execution_count": 6,
   "metadata": {},
   "outputs": [],
   "source": [
    "invalid_ind = np.unique(np.where(outputs == -999)[0])"
   ]
  },
  {
   "cell_type": "code",
   "execution_count": 7,
   "metadata": {},
   "outputs": [
    {
     "data": {
      "text/plain": [
       "332881"
      ]
     },
     "execution_count": 7,
     "metadata": {},
     "output_type": "execute_result"
    }
   ],
   "source": [
    "len(invalid_ind)"
   ]
  },
  {
   "cell_type": "code",
   "execution_count": 8,
   "metadata": {},
   "outputs": [],
   "source": [
    "invalid_inputs = inputs[invalid_ind]"
   ]
  },
  {
   "cell_type": "code",
   "execution_count": 9,
   "metadata": {},
   "outputs": [
    {
     "data": {
      "text/plain": [
       "(332881, 8)"
      ]
     },
     "execution_count": 9,
     "metadata": {},
     "output_type": "execute_result"
    }
   ],
   "source": [
    "invalid_inputs.shape"
   ]
  },
  {
   "cell_type": "code",
   "execution_count": 10,
   "metadata": {},
   "outputs": [
    {
     "name": "stdout",
     "output_type": "stream",
     "text": [
      "invalid ey: [-0.5 0 0.5 1 1.5 2]\n",
      "counts:      [57801 58989 56098 52525 52551 54917]\n",
      "invalid delta: [-0.34 -0.17 0 0.17 0.34]\n",
      "counts:      [ 38073  41789  40515  67938 144566]\n",
      "invalid vx: [1 3 5 7 9]\n",
      "counts:      [160887  82210  41897  27629  20258]\n",
      "invalid vy: [-1 1 3 5 7]\n",
      "counts:      [ 36296  38675  45213  81804 130893]\n",
      "invalid vgx: [1 3 5 7 9]\n",
      "counts:      [70352 68343 66053 64758 63375]\n",
      "invalid wz: [-1 -0.8 -0.6 -0.4 -0.2 -2.220446049e-16 0.2 0.4 0.6 0.8 1]\n",
      "counts:      [47587 42622 39345 35559 36130 30290 26395 21030 17602 17918 18403]\n",
      "invalid epsi: [-2.4 -1.8 -1.2 -0.6 4.440892099e-16 0.6 1.2 1.8]\n",
      "counts:      [42947 41650 38413 36196 37731 42292 45899 47753]\n",
      "invalid curv: [-0.4 -0.2 0 0.2 0.4]\n",
      "counts:      [65873 64650 64532 64462 73364]\n"
     ]
    }
   ],
   "source": [
    "keys = [\"ey\", \"delta\", \"vx\", \"vy\", \"vgx\", \"wz\", \"epsi\", \"curv\"]\n",
    "for i in range(invalid_inputs.shape[1]):\n",
    "    entries, counts = np.unique(invalid_inputs[:, i], return_counts=True)\n",
    "    print(f\"invalid {keys[i]}: {entries}\")\n",
    "    print(f\"counts:      {counts}\")"
   ]
  },
  {
   "cell_type": "code",
   "execution_count": 11,
   "metadata": {},
   "outputs": [],
   "source": [
    "valid_inputs = inputs[valid_ind]\n",
    "valid_outputs = outputs[valid_ind]"
   ]
  },
  {
   "cell_type": "code",
   "execution_count": 12,
   "metadata": {},
   "outputs": [
    {
     "data": {
      "text/plain": [
       "(1317119, 8)"
      ]
     },
     "execution_count": 12,
     "metadata": {},
     "output_type": "execute_result"
    }
   ],
   "source": [
    "valid_inputs.shape"
   ]
  },
  {
   "cell_type": "code",
   "execution_count": 13,
   "metadata": {},
   "outputs": [
    {
     "data": {
      "text/plain": [
       "(1317119, 5, 2)"
      ]
     },
     "execution_count": 13,
     "metadata": {},
     "output_type": "execute_result"
    }
   ],
   "source": [
    "valid_outputs.shape"
   ]
  },
  {
   "cell_type": "code",
   "execution_count": 14,
   "metadata": {},
   "outputs": [],
   "source": [
    "all_ey = np.unique(inputs[:, 0])\n",
    "all_delta = np.unique(inputs[:, 1])\n",
    "all_vx = np.unique(inputs[:, 2])\n",
    "all_vy = np.unique(inputs[:, 3])\n",
    "all_vgx = np.unique(inputs[:, 4])\n",
    "all_wz = np.unique(inputs[:, 5])\n",
    "all_epsi = np.unique(inputs[:, 6])\n",
    "all_curv = np.unique(inputs[:, 7])"
   ]
  },
  {
   "cell_type": "code",
   "execution_count": 15,
   "metadata": {},
   "outputs": [],
   "source": [
    "valid_ey = np.unique(valid_inputs[:, 0])\n",
    "valid_delta = np.unique(valid_inputs[:, 1])\n",
    "valid_vx = np.unique(valid_inputs[:, 2])\n",
    "valid_vy = np.unique(valid_inputs[:, 3])\n",
    "valid_vgx = np.unique(valid_inputs[:, 4])\n",
    "valid_wz = np.unique(valid_inputs[:, 5])\n",
    "valid_epsi = np.unique(valid_inputs[:, 6])\n",
    "valid_curv = np.unique(valid_inputs[:, 7])"
   ]
  },
  {
   "cell_type": "code",
   "execution_count": 16,
   "metadata": {},
   "outputs": [
    {
     "name": "stdout",
     "output_type": "stream",
     "text": [
      "all_ey: [-0.5 0 0.5 1 1.5 2]\n",
      "all_delta: [-0.34 -0.17 0 0.17 0.34]\n",
      "all_vx: [1 3 5 7 9]\n",
      "all_vy: [-1 1 3 5 7]\n",
      "all_vgx: [1 3 5 7 9]\n",
      "all_wz: [-1 -0.8 -0.6 -0.4 -0.2 -2.220446049e-16 0.2 0.4 0.6 0.8 1]\n",
      "all_epsi: [-2.4 -1.8 -1.2 -0.6 4.440892099e-16 0.6 1.2 1.8]\n",
      "all_curv: [-0.4 -0.2 0 0.2 0.4]\n"
     ]
    }
   ],
   "source": [
    "print(f\"all_ey: {all_ey}\")\n",
    "print(f\"all_delta: {all_delta}\")\n",
    "print(f\"all_vx: {all_vx}\")\n",
    "print(f\"all_vy: {all_vy}\")\n",
    "print(f\"all_vgx: {all_vgx}\")\n",
    "print(f\"all_wz: {all_wz}\")\n",
    "print(f\"all_epsi: {all_epsi}\")\n",
    "print(f\"all_curv: {all_curv}\")"
   ]
  },
  {
   "cell_type": "code",
   "execution_count": 17,
   "metadata": {},
   "outputs": [
    {
     "name": "stdout",
     "output_type": "stream",
     "text": [
      "valid_ey: [-0.5 0 0.5 1 1.5 2]\n",
      "valid_delta: [-0.34 -0.17 0 0.17 0.34]\n",
      "valid_vx: [1 3 5 7 9]\n",
      "valid_vy: [-1 1 3 5 7]\n",
      "valid_vgx: [1 3 5 7 9]\n",
      "valid_wz: [-1 -0.8 -0.6 -0.4 -0.2 -2.220446049e-16 0.2 0.4 0.6 0.8 1]\n",
      "valid_epsi: [-2.4 -1.8 -1.2 -0.6 4.440892099e-16 0.6 1.2 1.8]\n",
      "valid_curv: [-0.4 -0.2 0 0.2 0.4]\n"
     ]
    }
   ],
   "source": [
    "print(f\"valid_ey: {valid_ey}\")\n",
    "print(f\"valid_delta: {valid_delta}\")\n",
    "print(f\"valid_vx: {valid_vx}\")\n",
    "print(f\"valid_vy: {valid_vy}\")\n",
    "print(f\"valid_vgx: {valid_vgx}\")\n",
    "print(f\"valid_wz: {valid_wz}\")\n",
    "print(f\"valid_epsi: {valid_epsi}\")\n",
    "print(f\"valid_curv: {valid_curv}\")"
   ]
  },
  {
   "cell_type": "code",
   "execution_count": 19,
   "metadata": {},
   "outputs": [],
   "source": [
    "np.savez_compressed(npz_path[:-4] + \"_cleaned\" + npz_path[-4:], inputs=valid_inputs, outputs=valid_outputs)"
   ]
  },
  {
   "cell_type": "code",
   "execution_count": null,
   "metadata": {},
   "outputs": [],
   "source": []
  }
 ],
 "metadata": {
  "kernelspec": {
   "display_name": "venv",
   "language": "python",
   "name": "python3"
  },
  "language_info": {
   "codemirror_mode": {
    "name": "ipython",
    "version": 3
   },
   "file_extension": ".py",
   "mimetype": "text/x-python",
   "name": "python",
   "nbconvert_exporter": "python",
   "pygments_lexer": "ipython3",
   "version": "3.12.3"
  }
 },
 "nbformat": 4,
 "nbformat_minor": 2
}
